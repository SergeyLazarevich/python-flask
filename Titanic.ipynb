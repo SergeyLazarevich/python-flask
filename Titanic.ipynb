{
 "cells": [
  {
   "cell_type": "code",
   "execution_count": 6,
   "metadata": {},
   "outputs": [],
   "source": [
    "import numpy as np\n",
    "import pandas as pd\n",
    "import dill\n",
    "from scipy import stats\n",
    "from sklearn.model_selection import cross_val_score, train_test_split\n",
    "from sklearn.metrics import (precision_score, f1_score, accuracy_score, \\\n",
    "                             classification_report, \\\n",
    "                             recall_score, confusion_matrix, roc_curve, \\\n",
    "                             precision_recall_curve, ConfusionMatrixDisplay, \\\n",
    "                             RocCurveDisplay,PrecisionRecallDisplay, roc_auc_score)\n",
    "from sklearn.model_selection import learning_curve\n",
    "from sklearn.base import BaseEstimator, TransformerMixin\n",
    "from sklearn.pipeline import Pipeline\n",
    "from sklearn.pipeline import FeatureUnion\n",
    "from sklearn.preprocessing import StandardScaler\n",
    "from catboost import CatBoostClassifier\n",
    "\n",
    "import itertools\n",
    "import seaborn as sns\n",
    "import matplotlib.pyplot as plt\n",
    "%matplotlib inline\n",
    "import warnings\n",
    "warnings.filterwarnings('ignore')\n",
    "\n",
    "TRAIN_PATH = './Data Explorer/train.csv'"
   ]
  },
  {
   "cell_type": "code",
   "execution_count": 7,
   "metadata": {},
   "outputs": [],
   "source": [
    "def show_proba_calibration_plots(y_predicted_probs, y_true_labels):\n",
    "    \n",
    "    thresholds = []\n",
    "    precisions = []\n",
    "    recalls = []\n",
    "    f1_scores = []\n",
    "\n",
    "    for threshold in np.arange(0.01, 1, 0.01):\n",
    "        thresholds.append(threshold)\n",
    "        precisions.append(precision_score(y_true_labels, list(map(int, y_predicted_probs > threshold))))\n",
    "        recalls.append(recall_score(y_true_labels, list(map(int, y_predicted_probs > threshold))))\n",
    "        f1_scores.append(f1_score(y_true_labels, list(map(int, y_predicted_probs > threshold))))\n",
    "\n",
    "    scores_table = pd.DataFrame({'f1':f1_scores,\n",
    "                                 'precision':precisions,\n",
    "                                 'recall':recalls,\n",
    "                                 'tresholds':thresholds}).sort_values('f1', ascending=False).round(3)\n",
    "  \n",
    "    figure = plt.figure(figsize = (15, 5))\n",
    "\n",
    "    plt1 = figure.add_subplot(121)\n",
    "    plt1.plot(thresholds, precisions, label='Precision', linewidth=4)\n",
    "    plt1.plot(thresholds, recalls, label='Recall', linewidth=4)\n",
    "    plt1.plot(thresholds, f1_scores, label='F1', linewidth=4)\n",
    "    plt1.set_ylabel('Scores')\n",
    "    plt1.set_xlabel('Probability threshold')\n",
    "    plt1.set_title('Probabilities threshold calibration')\n",
    "    plt1.legend(bbox_to_anchor=(0.25, 0.25))   \n",
    "    plt1.table(cellText = scores_table.values[:10, :],\n",
    "               colLabels = scores_table.columns, \n",
    "               colLoc = 'center', cellLoc = 'center', loc = 'bottom', bbox = [0, -1.3, 1, 1])                                                                               \n",
    "\n",
    "    \n",
    "    preds_with_true_labels = np.array(list(zip(y_predicted_probs, y_true_labels)))\n",
    "    \n",
    "    plt2 = figure.add_subplot(122)\n",
    "    plt2.hist(preds_with_true_labels[preds_with_true_labels[:, 1] == 0][:, 0], \n",
    "              label='Another class', color='royalblue', alpha=1, bins=15)\n",
    "    plt2.hist(preds_with_true_labels[preds_with_true_labels[:, 1] == 1][:, 0], \n",
    "              label='Main class', color='darkcyan', alpha=0.8, bins=15)\n",
    "    plt2.set_ylabel('Number of examples')\n",
    "    plt2.set_xlabel('Probabilities')\n",
    "    plt2.set_title('Probability histogram')\n",
    "    plt2.legend(bbox_to_anchor=(1, 1))\n",
    "\n",
    "    plt.show()\n",
    "\n",
    "    return np.round(roc_auc_score(y_true_labels, y_predicted_probs), 3), \\\n",
    "            scores_table.values[0, 0], scores_table.values[0, 1], \\\n",
    "            scores_table.values[0, 2], scores_table.values[0, 3]\n",
    "\n",
    "#--------------------------------------------------------------------------------\n",
    "# Function to plot a Confusion Matrix\n",
    "def Plot_Confusion_Matrix(CM,Title=\"Confusion Matrix\"):\n",
    "    GroupNames       = [\"True Neg\",\"False Pos\",\"False Neg\",\"True Pos\"]\n",
    "    GroupCounts      = [\"{0:0.0f}\".format(x) for x in CM.flatten()]\n",
    "    GroupPercentages = [\"{0:.2%}\".format(x) for x in CM.flatten()/np.sum(CM)]\n",
    "    \n",
    "    Labels = [f\"{x1}\\n\\n{x2}\\n\\n{x3}\" for x1,x2,x3 in zip(GroupNames,GroupCounts,GroupPercentages)]\n",
    "    Labels = np.asarray(Labels).reshape(2,2)\n",
    "    \n",
    "    FontSize = 12\n",
    "    plt.figure(figsize=(6,5))\n",
    "    Ax = sns.heatmap(CM, annot=Labels, fmt=\"\", cmap=\"Blues\")\n",
    "    Ax.set_title(Title, fontsize=FontSize)\n",
    "    Ax.set_xlabel(\"Predicted Values\", fontsize=FontSize)\n",
    "    Ax.set_ylabel(\"Actual Values\", fontsize=FontSize)\n",
    "    Ax.xaxis.set_ticklabels([\"False\",\"True\"], fontsize=FontSize)\n",
    "    Ax.yaxis.set_ticklabels([\"False\",\"True\"], fontsize=FontSize)\n",
    "    plt.show()\n",
    "    return\n",
    "\n",
    "\n",
    "def evaluate_preds(y_pred, y_test, tresholds):\n",
    "    probs = y_pred >= tresholds\n",
    "    print(classification_report(y_test, probs))\n",
    "    Plot_Confusion_Matrix(confusion_matrix(y_test, probs))\n",
    "    RocCurveDisplay.from_predictions(y_test, y_pred)\n",
    "    PrecisionRecallDisplay.from_predictions(y_test, y_pred)\n",
    "    plt.show()\n"
   ]
  },
  {
   "cell_type": "code",
   "execution_count": 8,
   "metadata": {},
   "outputs": [],
   "source": [
    "class ColumnSelector(BaseEstimator, TransformerMixin):\n",
    "    \"\"\"\n",
    "    Transformer to select a single column from the data frame to perform additional transformations on\n",
    "    \"\"\"\n",
    "    def __init__(self, key):\n",
    "        self.key = key\n",
    "\n",
    "    def fit(self, X, y=None):\n",
    "        return self\n",
    "\n",
    "    def transform(self, X):\n",
    "        return X[self.key]\n",
    "    \n",
    "class NumberSelector(BaseEstimator, TransformerMixin):\n",
    "    \"\"\"\n",
    "    Transformer to select a single column from the data frame to perform additional transformations on\n",
    "    Use on numeric columns in the data\n",
    "    \"\"\"\n",
    "    def __init__(self, key):\n",
    "        self.key = key\n",
    "\n",
    "    def fit(self, X, y=None):\n",
    "        return self\n",
    "\n",
    "    def transform(self, X):\n",
    "        return X[[self.key]]\n",
    "    \n",
    "class OHEEncoder(BaseEstimator, TransformerMixin):\n",
    "    def __init__(self, key, column=[]):\n",
    "        self.key = key\n",
    "        self.column=column\n",
    "        self.columns = []\n",
    "\n",
    "    def fit(self, X, y=None):\n",
    "        if len(self.column)==0:\n",
    "            self.columns = [col for col in pd.get_dummies(X, prefix=self.key).columns]\n",
    "        else:\n",
    "            self.columns = [f'{self.key}_{col}' for col in self.column]\n",
    "        return self\n",
    "\n",
    "    def transform(self, X):\n",
    "        X = pd.get_dummies(X, prefix=self.key)\n",
    "        test_columns = [col for col in X.columns]\n",
    "        for col_ in self.columns:\n",
    "            if col_ not in test_columns:\n",
    "                X[col_] = 0\n",
    "        return X[self.columns]\n",
    "\n",
    "class TextImputer(BaseEstimator, TransformerMixin):\n",
    "    def __init__(self, key, value):\n",
    "        self.key = key\n",
    "        self.value = value\n",
    "    \n",
    "    def fit(self, X, y=None):\n",
    "        return self\n",
    "    \n",
    "    def transform(self, X):\n",
    "        X[self.key] = X[self.key].fillna(self.value)\n",
    "        return X"
   ]
  },
  {
   "cell_type": "markdown",
   "metadata": {},
   "source": [
    "## 2. Загрузка данных в Data Frame\n",
    "#### Описание файлов\n",
    "- train.csv - тренировочные данные\n",
    "- test.csv - тестовые данные\n",
    "- gender_submission.csv - образец файла для отправки в правильном формате\n",
    "#### Описание признаков данных\n",
    "- survival: выживший -1 или -0\n",
    "- pclass: Класс билетов 1 = 1st, 2 = 2nd, 3 = 3rd\n",
    "- sex: Пол\n",
    "- Age: Возраст в годах\n",
    "- sibsp: братьев и сестер/супругов на борту \"Титаника\"\n",
    "- parch: родителей/детей на борту \"Титаника\"\n",
    "- ticket: Номер билета\n",
    "- fare: Пассажирский тариф\n",
    "- cabin: Номер каюты\n",
    "- embarked: Порт отправления C = Шербур, Q = Квинстаун, S = Саутгемптон\n"
   ]
  },
  {
   "cell_type": "code",
   "execution_count": 9,
   "metadata": {},
   "outputs": [
    {
     "name": "stdout",
     "output_type": "stream",
     "text": [
      "<class 'pandas.core.frame.DataFrame'>\n",
      "RangeIndex: 891 entries, 0 to 890\n",
      "Data columns (total 12 columns):\n",
      " #   Column       Non-Null Count  Dtype  \n",
      "---  ------       --------------  -----  \n",
      " 0   PassengerId  891 non-null    int64  \n",
      " 1   Survived     891 non-null    int64  \n",
      " 2   Pclass       891 non-null    int64  \n",
      " 3   Name         891 non-null    object \n",
      " 4   Sex          891 non-null    object \n",
      " 5   Age          714 non-null    float64\n",
      " 6   SibSp        891 non-null    int64  \n",
      " 7   Parch        891 non-null    int64  \n",
      " 8   Ticket       891 non-null    object \n",
      " 9   Fare         891 non-null    float64\n",
      " 10  Cabin        204 non-null    object \n",
      " 11  Embarked     889 non-null    object \n",
      "dtypes: float64(2), int64(5), object(5)\n",
      "memory usage: 83.7+ KB\n"
     ]
    }
   ],
   "source": [
    "# Импортируем данные train.csv в pandas Dataframe\n",
    "df_train = pd.read_csv(TRAIN_PATH, sep=',')\n",
    "df_train.info()"
   ]
  },
  {
   "cell_type": "code",
   "execution_count": 10,
   "metadata": {},
   "outputs": [
    {
     "data": {
      "text/html": [
       "<div>\n",
       "<style scoped>\n",
       "    .dataframe tbody tr th:only-of-type {\n",
       "        vertical-align: middle;\n",
       "    }\n",
       "\n",
       "    .dataframe tbody tr th {\n",
       "        vertical-align: top;\n",
       "    }\n",
       "\n",
       "    .dataframe thead th {\n",
       "        text-align: right;\n",
       "    }\n",
       "</style>\n",
       "<table border=\"1\" class=\"dataframe\">\n",
       "  <thead>\n",
       "    <tr style=\"text-align: right;\">\n",
       "      <th></th>\n",
       "      <th>PassengerId</th>\n",
       "      <th>Survived</th>\n",
       "      <th>Pclass</th>\n",
       "      <th>Name</th>\n",
       "      <th>Sex</th>\n",
       "      <th>Age</th>\n",
       "      <th>SibSp</th>\n",
       "      <th>Parch</th>\n",
       "      <th>Ticket</th>\n",
       "      <th>Fare</th>\n",
       "      <th>Cabin</th>\n",
       "      <th>Embarked</th>\n",
       "    </tr>\n",
       "  </thead>\n",
       "  <tbody>\n",
       "    <tr>\n",
       "      <th>0</th>\n",
       "      <td>1</td>\n",
       "      <td>0</td>\n",
       "      <td>3</td>\n",
       "      <td>Braund, Mr. Owen Harris</td>\n",
       "      <td>male</td>\n",
       "      <td>22.0</td>\n",
       "      <td>1</td>\n",
       "      <td>0</td>\n",
       "      <td>A/5 21171</td>\n",
       "      <td>7.2500</td>\n",
       "      <td>NaN</td>\n",
       "      <td>S</td>\n",
       "    </tr>\n",
       "    <tr>\n",
       "      <th>1</th>\n",
       "      <td>2</td>\n",
       "      <td>1</td>\n",
       "      <td>1</td>\n",
       "      <td>Cumings, Mrs. John Bradley (Florence Briggs Th...</td>\n",
       "      <td>female</td>\n",
       "      <td>38.0</td>\n",
       "      <td>1</td>\n",
       "      <td>0</td>\n",
       "      <td>PC 17599</td>\n",
       "      <td>71.2833</td>\n",
       "      <td>C85</td>\n",
       "      <td>C</td>\n",
       "    </tr>\n",
       "    <tr>\n",
       "      <th>2</th>\n",
       "      <td>3</td>\n",
       "      <td>1</td>\n",
       "      <td>3</td>\n",
       "      <td>Heikkinen, Miss. Laina</td>\n",
       "      <td>female</td>\n",
       "      <td>26.0</td>\n",
       "      <td>0</td>\n",
       "      <td>0</td>\n",
       "      <td>STON/O2. 3101282</td>\n",
       "      <td>7.9250</td>\n",
       "      <td>NaN</td>\n",
       "      <td>S</td>\n",
       "    </tr>\n",
       "    <tr>\n",
       "      <th>3</th>\n",
       "      <td>4</td>\n",
       "      <td>1</td>\n",
       "      <td>1</td>\n",
       "      <td>Futrelle, Mrs. Jacques Heath (Lily May Peel)</td>\n",
       "      <td>female</td>\n",
       "      <td>35.0</td>\n",
       "      <td>1</td>\n",
       "      <td>0</td>\n",
       "      <td>113803</td>\n",
       "      <td>53.1000</td>\n",
       "      <td>C123</td>\n",
       "      <td>S</td>\n",
       "    </tr>\n",
       "    <tr>\n",
       "      <th>4</th>\n",
       "      <td>5</td>\n",
       "      <td>0</td>\n",
       "      <td>3</td>\n",
       "      <td>Allen, Mr. William Henry</td>\n",
       "      <td>male</td>\n",
       "      <td>35.0</td>\n",
       "      <td>0</td>\n",
       "      <td>0</td>\n",
       "      <td>373450</td>\n",
       "      <td>8.0500</td>\n",
       "      <td>NaN</td>\n",
       "      <td>S</td>\n",
       "    </tr>\n",
       "  </tbody>\n",
       "</table>\n",
       "</div>"
      ],
      "text/plain": [
       "   PassengerId  Survived  Pclass  \\\n",
       "0            1         0       3   \n",
       "1            2         1       1   \n",
       "2            3         1       3   \n",
       "3            4         1       1   \n",
       "4            5         0       3   \n",
       "\n",
       "                                                Name     Sex   Age  SibSp  \\\n",
       "0                            Braund, Mr. Owen Harris    male  22.0      1   \n",
       "1  Cumings, Mrs. John Bradley (Florence Briggs Th...  female  38.0      1   \n",
       "2                             Heikkinen, Miss. Laina  female  26.0      0   \n",
       "3       Futrelle, Mrs. Jacques Heath (Lily May Peel)  female  35.0      1   \n",
       "4                           Allen, Mr. William Henry    male  35.0      0   \n",
       "\n",
       "   Parch            Ticket     Fare Cabin Embarked  \n",
       "0      0         A/5 21171   7.2500   NaN        S  \n",
       "1      0          PC 17599  71.2833   C85        C  \n",
       "2      0  STON/O2. 3101282   7.9250   NaN        S  \n",
       "3      0            113803  53.1000  C123        S  \n",
       "4      0            373450   8.0500   NaN        S  "
      ]
     },
     "execution_count": 10,
     "metadata": {},
     "output_type": "execute_result"
    }
   ],
   "source": [
    "df_train.head()"
   ]
  },
  {
   "cell_type": "markdown",
   "metadata": {},
   "source": [
    "## Рассмотрим поближе каждую характеристику "
   ]
  },
  {
   "cell_type": "code",
   "execution_count": 11,
   "metadata": {},
   "outputs": [
    {
     "data": {
      "image/png": "[encoded data removed]",
      "text/plain": [
       "<Figure size 576x144 with 1 Axes>"
      ]
     },
     "metadata": {
      "needs_background": "light"
     },
     "output_type": "display_data"
    },
    {
     "name": "stdout",
     "output_type": "stream",
     "text": [
      "\n",
      "Количество пропущенных элементов 0\n",
      "3    491\n",
      "1    216\n",
      "2    184\n",
      "Name: Pclass, dtype: int64\n",
      "\n",
      "Количество уникальных элементов 3\n"
     ]
    }
   ],
   "source": [
    "index = 'Pclass'\n",
    "df_train[index] = df_train[index].astype(str)\n",
    "counts = df_train[index].value_counts()\n",
    "plt.figure(figsize=(8, 2))\n",
    "sns.barplot(counts.index, counts.values)\n",
    "plt.show()\n",
    "\n",
    "print(f'\\nКоличество пропущенных элементов {df_train[index].isnull().sum()}')\n",
    "print(df_train[index].value_counts())\n",
    "print(f'\\nКоличество уникальных элементов {df_train[index].value_counts().size}')"
   ]
  },
  {
   "cell_type": "code",
   "execution_count": 12,
   "metadata": {},
   "outputs": [
    {
     "data": {
      "image/png": "[encoded data removed]",
      "text/plain": [
       "<Figure size 576x144 with 1 Axes>"
      ]
     },
     "metadata": {
      "needs_background": "light"
     },
     "output_type": "display_data"
    },
    {
     "name": "stdout",
     "output_type": "stream",
     "text": [
      "\n",
      "Количество пропущенных элементов 0\n",
      "male      577\n",
      "female    314\n",
      "Name: Sex, dtype: int64\n",
      "\n",
      "Количество уникальных элементов 2\n"
     ]
    }
   ],
   "source": [
    "index = 'Sex'\n",
    "df_train[index] = df_train[index].astype(str)\n",
    "counts = df_train[index].value_counts()\n",
    "plt.figure(figsize=(8, 2))\n",
    "sns.barplot(counts.index, counts.values)\n",
    "plt.show()\n",
    "\n",
    "print(f'\\nКоличество пропущенных элементов {df_train[index].isnull().sum()}')\n",
    "print(df_train[index].value_counts())\n",
    "print(f'\\nКоличество уникальных элементов {df_train[index].value_counts().size}')"
   ]
  },
  {
   "cell_type": "code",
   "execution_count": 13,
   "metadata": {},
   "outputs": [
    {
     "data": {
      "image/png": "[encoded data removed]",
      "text/plain": [
       "<Figure size 576x144 with 1 Axes>"
      ]
     },
     "metadata": {
      "needs_background": "light"
     },
     "output_type": "display_data"
    },
    {
     "name": "stdout",
     "output_type": "stream",
     "text": [
      "\n",
      "Количество пропущенных элементов 0\n",
      "0    678\n",
      "1    118\n",
      "2     80\n",
      "5      5\n",
      "3      5\n",
      "4      4\n",
      "6      1\n",
      "Name: Parch, dtype: int64\n",
      "\n",
      "Количество уникальных элементов 7\n"
     ]
    }
   ],
   "source": [
    "index = 'Parch'\n",
    "df_train[index] = df_train[index].astype(str)\n",
    "counts = df_train[index].value_counts()\n",
    "plt.figure(figsize=(8, 2))\n",
    "sns.barplot(counts.index, counts.values)\n",
    "plt.show()\n",
    "\n",
    "print(f'\\nКоличество пропущенных элементов {df_train[index].isnull().sum()}')\n",
    "print(df_train[index].value_counts())\n",
    "print(f'\\nКоличество уникальных элементов {df_train[index].value_counts().size}')"
   ]
  },
  {
   "cell_type": "code",
   "execution_count": 14,
   "metadata": {},
   "outputs": [
    {
     "data": {
      "image/png": "[encoded data removed]",
      "text/plain": [
       "<Figure size 576x144 with 1 Axes>"
      ]
     },
     "metadata": {
      "needs_background": "light"
     },
     "output_type": "display_data"
    },
    {
     "name": "stdout",
     "output_type": "stream",
     "text": [
      "\n",
      "Количество пропущенных элементов 177\n",
      "Количество уникальных элементов 88\n",
      "median - 28.000\n",
      "mean - 29.699\n",
      "mode - 24.000\n",
      "квантиль 5% - 4.000\n",
      "квантиль 98% - 62.740\n",
      "0.42     1\n",
      "0.67     1\n",
      "0.75     2\n",
      "0.83     2\n",
      "0.92     1\n",
      "        ..\n",
      "70.00    2\n",
      "70.50    1\n",
      "71.00    2\n",
      "74.00    1\n",
      "80.00    1\n",
      "Name: Age, Length: 88, dtype: int64\n"
     ]
    }
   ],
   "source": [
    "index = 'Age'\n",
    "plt.figure(figsize=(8, 2))\n",
    "sns.boxplot(df_train[index], whis=1.5)\n",
    "plt.xlabel(index)\n",
    "plt.show()\n",
    "\n",
    "print(f'\\nКоличество пропущенных элементов {df_train[index].isnull().sum()}')\n",
    "quantile = df_train.loc[df_train[index].notnull(), index]\n",
    "print(f'Количество уникальных элементов {quantile.value_counts().size}')\n",
    "print(f'median - {np.quantile(quantile, q=0.5):.3f}\\nmean - {np.mean(quantile):.3f}\\nmode - {stats.mode(quantile)[0][0]:.3f}')\n",
    "print(f'квантиль 5% - {np.quantile(quantile, q=0.05):.3f}\\nквантиль 98% - {np.quantile(quantile, q=0.98):.3f}')\n",
    "print(df_train[index].value_counts().sort_index(ascending=True))"
   ]
  },
  {
   "cell_type": "code",
   "execution_count": 15,
   "metadata": {},
   "outputs": [
    {
     "data": {
      "image/png": "[encoded data removed]",
      "text/plain": [
       "<Figure size 576x144 with 1 Axes>"
      ]
     },
     "metadata": {
      "needs_background": "light"
     },
     "output_type": "display_data"
    },
    {
     "name": "stdout",
     "output_type": "stream",
     "text": [
      "\n",
      "Количество пропущенных элементов 0\n",
      "Количество уникальных элементов 248\n",
      "median - 14.454\n",
      "mean - 32.204\n",
      "mode - 8.050\n",
      "квантиль 5% - 7.225\n",
      "квантиль 98% - 211.338\n",
      "0.0000      15\n",
      "4.0125       1\n",
      "5.0000       1\n",
      "6.2375       1\n",
      "6.4375       1\n",
      "            ..\n",
      "227.5250     4\n",
      "247.5208     2\n",
      "262.3750     2\n",
      "263.0000     4\n",
      "512.3292     3\n",
      "Name: Fare, Length: 248, dtype: int64\n"
     ]
    }
   ],
   "source": [
    "index = 'Fare'\n",
    "plt.figure(figsize=(8, 2))\n",
    "sns.boxplot(df_train[index], whis=1.5)\n",
    "plt.xlabel(index)\n",
    "plt.show()\n",
    "\n",
    "print(f'\\nКоличество пропущенных элементов {df_train[index].isnull().sum()}')\n",
    "quantile = df_train.loc[df_train[index].notnull(), index]\n",
    "print(f'Количество уникальных элементов {quantile.value_counts().size}')\n",
    "print(f'median - {np.quantile(quantile, q=0.5):.3f}\\nmean - {np.mean(quantile):.3f}\\nmode - {stats.mode(quantile)[0][0]:.3f}')\n",
    "print(f'квантиль 5% - {np.quantile(quantile, q=0.05):.3f}\\nквантиль 98% - {np.quantile(quantile, q=0.98):.3f}')\n",
    "print(df_train[index].value_counts().sort_index(ascending=True))"
   ]
  },
  {
   "cell_type": "code",
   "execution_count": 16,
   "metadata": {},
   "outputs": [
    {
     "name": "stdout",
     "output_type": "stream",
     "text": [
      "\n",
      "Количество пропущенных элементов 0\n",
      "nan            687\n",
      "C23 C25 C27      4\n",
      "G6               4\n",
      "B96 B98          4\n",
      "C22 C26          3\n",
      "              ... \n",
      "E34              1\n",
      "C7               1\n",
      "C54              1\n",
      "E36              1\n",
      "C148             1\n",
      "Name: Cabin, Length: 148, dtype: int64\n",
      "\n",
      "Количество уникальных элементов 148\n"
     ]
    }
   ],
   "source": [
    "index = 'Cabin'\n",
    "df_train[index] = df_train[index].astype(str)\n",
    "\n",
    "print(f'\\nКоличество пропущенных элементов {df_train[index].isnull().sum()}')\n",
    "print(df_train[index].value_counts())\n",
    "print(f'\\nКоличество уникальных элементов {df_train[index].value_counts().size}')"
   ]
  },
  {
   "cell_type": "code",
   "execution_count": 17,
   "metadata": {},
   "outputs": [
    {
     "data": {
      "image/png": "[encoded data removed]",
      "text/plain": [
       "<Figure size 576x144 with 1 Axes>"
      ]
     },
     "metadata": {
      "needs_background": "light"
     },
     "output_type": "display_data"
    },
    {
     "name": "stdout",
     "output_type": "stream",
     "text": [
      "\n",
      "Количество пропущенных элементов 0\n",
      "S      644\n",
      "C      168\n",
      "Q       77\n",
      "nan      2\n",
      "Name: Embarked, dtype: int64\n",
      "\n",
      "Количество уникальных элементов 4\n"
     ]
    }
   ],
   "source": [
    "index = 'Embarked'\n",
    "df_train[index] = df_train[index].astype(str)\n",
    "counts = df_train[index].value_counts()\n",
    "plt.figure(figsize=(8, 2))\n",
    "sns.barplot(counts.index, counts.values)\n",
    "plt.show()\n",
    "\n",
    "print(f'\\nКоличество пропущенных элементов {df_train[index].isnull().sum()}')\n",
    "print(df_train[index].value_counts())\n",
    "print(f'\\nКоличество уникальных элементов {df_train[index].value_counts().size}')"
   ]
  },
  {
   "cell_type": "code",
   "execution_count": 18,
   "metadata": {},
   "outputs": [
    {
     "data": {
      "image/png": "[encoded data removed]",
      "text/plain": [
       "<Figure size 576x144 with 1 Axes>"
      ]
     },
     "metadata": {
      "needs_background": "light"
     },
     "output_type": "display_data"
    },
    {
     "name": "stdout",
     "output_type": "stream",
     "text": [
      "\n",
      "Количество пропущенных элементов 0\n",
      "0    549\n",
      "1    342\n",
      "Name: Survived, dtype: int64\n",
      "\n",
      "Количество уникальных элементов 2\n"
     ]
    }
   ],
   "source": [
    "index = 'Survived'\n",
    "df_train[index] = df_train[index].astype(str)\n",
    "counts = df_train[index].value_counts()\n",
    "plt.figure(figsize=(8, 2))\n",
    "sns.barplot(counts.index, counts.values)\n",
    "plt.show()\n",
    "\n",
    "print(f'\\nКоличество пропущенных элементов {df_train[index].isnull().sum()}')\n",
    "print(df_train[index].value_counts())\n",
    "print(f'\\nКоличество уникальных элементов {df_train[index].value_counts().size}')"
   ]
  },
  {
   "cell_type": "markdown",
   "metadata": {},
   "source": [
    "### *Вывод: имеем не большой дисбаланс классов, в последствии будем проводить балансировку методом Oversampling*"
   ]
  },
  {
   "cell_type": "markdown",
   "metadata": {},
   "source": [
    "## Обработка данных"
   ]
  },
  {
   "cell_type": "code",
   "execution_count": 19,
   "metadata": {},
   "outputs": [],
   "source": [
    "df_train = pd.read_csv(TRAIN_PATH, sep=',')\n",
    "\n",
    "Y = df_train['Survived']\n",
    "X = df_train.drop(columns=['Survived'])"
   ]
  },
  {
   "cell_type": "code",
   "execution_count": 20,
   "metadata": {},
   "outputs": [],
   "source": [
    "#features_Drop = ['PassengerId','Name','Ticket', 'Cabin', 'Embarked']\n",
    "features = ['Pclass', 'Sex', 'Age', 'SibSp', 'Parch','Fare']\n",
    "target = 'Survived'\n",
    "\n",
    "X = df_train[features]\n",
    "Y = df_train[target]"
   ]
  },
  {
   "cell_type": "markdown",
   "metadata": {},
   "source": [
    "### *Разбиение на train и test*"
   ]
  },
  {
   "cell_type": "code",
   "execution_count": 21,
   "metadata": {},
   "outputs": [],
   "source": [
    "X_train, X_valid, y_train, y_valid = train_test_split(X, Y, \n",
    "                                                    shuffle=True,\n",
    "                                                    test_size=0.3,\n",
    "                                                    random_state=42,\n",
    "                                                    stratify=Y\n",
    "                                                    )\n",
    "\n",
    "# save valid\n",
    "X_valid.to_csv(\"./Data Explorer/X_valid.csv\", index=None)\n",
    "y_valid.to_csv(\"./Data Explorer/y_valid.csv\", index=None)\n",
    "\n",
    "# save train\n",
    "X_train.to_csv(\"./Data Explorer/X_train.csv\", index=None)\n",
    "y_train.to_csv(\"./Data Explorer/y_train.csv\", index=None)"
   ]
  },
  {
   "cell_type": "markdown",
   "metadata": {
    "id": "HaM6QdpqGrtk"
   },
   "source": [
    "Соберем кусок, ответственный за feature engineering"
   ]
  },
  {
   "cell_type": "code",
   "execution_count": 22,
   "metadata": {},
   "outputs": [],
   "source": [
    "gender = Pipeline([\n",
    "                    ('selector', ColumnSelector(key='Sex')), \n",
    "                    ('ohee', OHEEncoder(key='Sex'))\n",
    "                  ],\n",
    "                 verbose=False)\n",
    "\n",
    "SibSp = Pipeline([\n",
    "                    ('selector', ColumnSelector(key='SibSp')), \n",
    "                    ('ohee', OHEEncoder(key='SibSp', column=['0', '1', '2', '3', '4', '5', '8']))\n",
    "                  ],\n",
    "                 verbose=False)\n",
    "\n",
    "Parch = Pipeline([\n",
    "                    ('selector', ColumnSelector(key='Parch')), \n",
    "                    ('ohee', OHEEncoder(key='Parch', column=['0', '1', '2', '3', '4', '5', '6']))\n",
    "                  ],\n",
    "                 verbose=False)\n",
    "\n",
    "Pclass = Pipeline([\n",
    "                    ('selector', ColumnSelector(key='Pclass')), \n",
    "                    ('ohee', OHEEncoder(key='Pclass'))\n",
    "                  ],\n",
    "                 verbose=False)\n",
    "\n",
    "Age = Pipeline([\n",
    "                    ('selector', NumberSelector(key='Age')), \n",
    "                    ('Imputer', TextImputer(key='Age', value=24))\n",
    "                ],\n",
    "                 verbose=False)\n",
    "\n",
    "Fare = Pipeline([\n",
    "                    ('selector', NumberSelector(key='Fare'))\n",
    "                ],\n",
    "                verbose=False)\n",
    "\n",
    "feats = FeatureUnion([('gender', gender),\n",
    "                      ('SibSp', SibSp),\n",
    "                      ('Parch', Parch),\n",
    "                      ('Pclass', Pclass),\n",
    "                      ('Age', Age),\n",
    "                      ('Fare', Fare)\n",
    "                      ])"
   ]
  },
  {
   "cell_type": "code",
   "execution_count": 23,
   "metadata": {},
   "outputs": [],
   "source": [
    "# Балансировка целевой переменной\n",
    "disbalance = Y.value_counts()[0] / Y.value_counts()[1]\n",
    "# параметры CatBoost\n",
    "frozen_params = {\n",
    "     'class_weights':[1, disbalance], \n",
    "     'silent':True,\n",
    "     'random_state':42,\n",
    "     'eval_metric':'F1',\n",
    "     'early_stopping_rounds':20\n",
    "}"
   ]
  },
  {
   "cell_type": "markdown",
   "metadata": {},
   "source": [
    "Обучим классификатор"
   ]
  },
  {
   "cell_type": "code",
   "execution_count": 24,
   "metadata": {},
   "outputs": [],
   "source": [
    "classifier = Pipeline([\n",
    "                    ('features', feats),\n",
    "                    ('classifier', CatBoostClassifier(**frozen_params,  \n",
    "                                                      iterations=300, \n",
    "                                                      min_data_in_leaf = 1)),\n",
    "                    ],\n",
    "                    verbose=False)"
   ]
  },
  {
   "cell_type": "code",
   "execution_count": 25,
   "metadata": {},
   "outputs": [],
   "source": [
    "classifier.fit(X_train, y_train)\n",
    "y_score = classifier.predict_proba(X_valid)"
   ]
  },
  {
   "cell_type": "code",
   "execution_count": 26,
   "metadata": {},
   "outputs": [
    {
     "data": {
      "image/png": "[encoded data removed]",
      "text/plain": [
       "<Figure size 1080x360 with 2 Axes>"
      ]
     },
     "metadata": {
      "needs_background": "light"
     },
     "output_type": "display_data"
    }
   ],
   "source": [
    "roc_auc, f_score, precision, recall,  tresholds = show_proba_calibration_plots(y_score[:, 1], y_valid)"
   ]
  },
  {
   "cell_type": "code",
   "execution_count": 27,
   "metadata": {},
   "outputs": [
    {
     "name": "stdout",
     "output_type": "stream",
     "text": [
      "              precision    recall  f1-score   support\n",
      "\n",
      "           0       0.91      0.73      0.81       165\n",
      "           1       0.67      0.88      0.76       103\n",
      "\n",
      "    accuracy                           0.79       268\n",
      "   macro avg       0.79      0.81      0.78       268\n",
      "weighted avg       0.82      0.79      0.79       268\n",
      "\n"
     ]
    },
    {
     "data": {
      "image/png": "[encoded data removed]",
      "text/plain": [
       "<Figure size 432x360 with 2 Axes>"
      ]
     },
     "metadata": {
      "needs_background": "light"
     },
     "output_type": "display_data"
    },
    {
     "data": {
      "image/png": "[encoded data removed]",
      "text/plain": [
       "<Figure size 432x288 with 1 Axes>"
      ]
     },
     "metadata": {
      "needs_background": "light"
     },
     "output_type": "display_data"
    },
    {
     "data": {
      "image/png": "[encoded data removed]",
      "text/plain": [
       "<Figure size 432x288 with 1 Axes>"
      ]
     },
     "metadata": {
      "needs_background": "light"
     },
     "output_type": "display_data"
    }
   ],
   "source": [
    "evaluate_preds(y_score[:, 1], y_valid, tresholds)"
   ]
  },
  {
   "cell_type": "markdown",
   "metadata": {
    "id": "blNARG08Grtz"
   },
   "source": [
    "Сохраним модель (пайплайн)"
   ]
  },
  {
   "cell_type": "code",
   "execution_count": 28,
   "metadata": {},
   "outputs": [],
   "source": [
    "with open(\"./app/models/model.dill\", \"wb\") as f:\n",
    "    dill.dump(classifier, f)"
   ]
  }
 ],
 "metadata": {
  "interpreter": {
   "hash": "d30e8fff444892016a8438d88f109d7a5800fe56a6dd2d3bd28b989ffd4d5abe"
  },
  "kernelspec": {
   "display_name": "Python 3.8.10 64-bit",
   "language": "python",
   "name": "python3"
  },
  "language_info": {
   "codemirror_mode": {
    "name": "ipython",
    "version": 3
   },
   "file_extension": ".py",
   "mimetype": "text/x-python",
   "name": "python",
   "nbconvert_exporter": "python",
   "pygments_lexer": "ipython3",
   "version": "3.8.10"
  },
  "orig_nbformat": 4
 },
 "nbformat": 4,
 "nbformat_minor": 2
}
